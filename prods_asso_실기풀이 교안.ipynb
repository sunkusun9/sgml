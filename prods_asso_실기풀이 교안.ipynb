{
 "cells": [
  {
   "cell_type": "markdown",
   "id": "ed980372",
   "metadata": {},
   "source": [
    "**ProDS 시험장 환경**\n",
    "\n",
    "||version|\n",
    "|-|-----|\n",
    "|python|3.7.4|\n",
    "|numpy|1.18.5|\n",
    "|pandas|0.25.1|\n",
    "|sklearn|0.21.3|\n",
    "|scipy|1.5.2|"
   ]
  },
  {
   "cell_type": "code",
   "execution_count": 1,
   "id": "a6616b46",
   "metadata": {},
   "outputs": [
    {
     "name": "stdout",
     "output_type": "stream",
     "text": [
      "3.7.4 (tags/v3.7.4:e09359112e, Jul  8 2019, 20:34:20) [MSC v.1916 64 bit (AMD64)]\n",
      "numpy 1.18.5\n",
      "pandas 0.25.1\n",
      "sklearn 0.21.3\n",
      "scipy 1.5.2\n"
     ]
    }
   ],
   "source": [
    "import numpy as np\n",
    "import pandas as pd\n",
    "import sklearn\n",
    "import scipy\n",
    "\n",
    "import sys\n",
    "print(sys.version)\n",
    "\n",
    "for i in [np, pd, sklearn, scipy]:\n",
    "    print(i.__name__, i.__version__)"
   ]
  },
  {
   "cell_type": "markdown",
   "id": "b3b6f25a",
   "metadata": {},
   "source": [
    "# 실습 문제 1\n",
    "\n",
    "데이터셋: **Dataset_07.csv**, comma(\",\") 400rows, 9columns, UTF-8 인코딩\n",
    "\n",
    "|컬럼|정의|Type|\n",
    "|----|----|----|\n",
    "|Serial_No|구분자 번호|Double|\n",
    "|GRE| GRE 시험성적|Double|\n",
    "|TOEFL| TOEFL 시험성적|Double|\n",
    "|University_Rating| 대학 평가 그룹(1~5)|Double|\n",
    "|SOP|자기 소개서 점수(1~5)|Double|\n",
    "|LOR|추천서 점수(1~5)|Double|\n",
    "|CGPA|학부 평량 평점(10점 만점 환산 점수)|Double|\n",
    "|Research| 연구 참여 경험 여부(0/1)|Double|\n",
    "|Chance_of Admit|합격 가능성|Double|"
   ]
  },
  {
   "cell_type": "code",
   "execution_count": 4,
   "id": "3befd68b",
   "metadata": {},
   "outputs": [
    {
     "data": {
      "text/html": [
       "<div>\n",
       "<style scoped>\n",
       "    .dataframe tbody tr th:only-of-type {\n",
       "        vertical-align: middle;\n",
       "    }\n",
       "\n",
       "    .dataframe tbody tr th {\n",
       "        vertical-align: top;\n",
       "    }\n",
       "\n",
       "    .dataframe thead th {\n",
       "        text-align: right;\n",
       "    }\n",
       "</style>\n",
       "<table border=\"1\" class=\"dataframe\">\n",
       "  <thead>\n",
       "    <tr style=\"text-align: right;\">\n",
       "      <th></th>\n",
       "      <th>GRE</th>\n",
       "      <th>TOEFL</th>\n",
       "      <th>University_Rating</th>\n",
       "      <th>SOP</th>\n",
       "      <th>LOR</th>\n",
       "      <th>CGPA</th>\n",
       "      <th>Research</th>\n",
       "      <th>Chance_of_Admit</th>\n",
       "    </tr>\n",
       "    <tr>\n",
       "      <th>Serial_No</th>\n",
       "      <th></th>\n",
       "      <th></th>\n",
       "      <th></th>\n",
       "      <th></th>\n",
       "      <th></th>\n",
       "      <th></th>\n",
       "      <th></th>\n",
       "      <th></th>\n",
       "    </tr>\n",
       "  </thead>\n",
       "  <tbody>\n",
       "    <tr>\n",
       "      <td>1</td>\n",
       "      <td>337</td>\n",
       "      <td>118</td>\n",
       "      <td>4</td>\n",
       "      <td>4.5</td>\n",
       "      <td>4.5</td>\n",
       "      <td>9.65</td>\n",
       "      <td>1</td>\n",
       "      <td>0.92</td>\n",
       "    </tr>\n",
       "    <tr>\n",
       "      <td>2</td>\n",
       "      <td>324</td>\n",
       "      <td>107</td>\n",
       "      <td>4</td>\n",
       "      <td>4.0</td>\n",
       "      <td>4.5</td>\n",
       "      <td>8.87</td>\n",
       "      <td>1</td>\n",
       "      <td>0.76</td>\n",
       "    </tr>\n",
       "    <tr>\n",
       "      <td>3</td>\n",
       "      <td>316</td>\n",
       "      <td>104</td>\n",
       "      <td>3</td>\n",
       "      <td>3.0</td>\n",
       "      <td>3.5</td>\n",
       "      <td>8.00</td>\n",
       "      <td>1</td>\n",
       "      <td>0.72</td>\n",
       "    </tr>\n",
       "    <tr>\n",
       "      <td>4</td>\n",
       "      <td>322</td>\n",
       "      <td>110</td>\n",
       "      <td>3</td>\n",
       "      <td>3.5</td>\n",
       "      <td>2.5</td>\n",
       "      <td>8.67</td>\n",
       "      <td>1</td>\n",
       "      <td>0.80</td>\n",
       "    </tr>\n",
       "    <tr>\n",
       "      <td>5</td>\n",
       "      <td>314</td>\n",
       "      <td>103</td>\n",
       "      <td>2</td>\n",
       "      <td>2.0</td>\n",
       "      <td>3.0</td>\n",
       "      <td>8.21</td>\n",
       "      <td>0</td>\n",
       "      <td>0.65</td>\n",
       "    </tr>\n",
       "  </tbody>\n",
       "</table>\n",
       "</div>"
      ],
      "text/plain": [
       "           GRE  TOEFL  University_Rating  SOP  LOR  CGPA  Research  \\\n",
       "Serial_No                                                            \n",
       "1          337    118                  4  4.5  4.5  9.65         1   \n",
       "2          324    107                  4  4.0  4.5  8.87         1   \n",
       "3          316    104                  3  3.0  3.5  8.00         1   \n",
       "4          322    110                  3  3.5  2.5  8.67         1   \n",
       "5          314    103                  2  2.0  3.0  8.21         0   \n",
       "\n",
       "           Chance_of_Admit  \n",
       "Serial_No                   \n",
       "1                     0.92  \n",
       "2                     0.76  \n",
       "3                     0.72  \n",
       "4                     0.80  \n",
       "5                     0.65  "
      ]
     },
     "execution_count": 4,
     "metadata": {},
     "output_type": "execute_result"
    }
   ],
   "source": [
    "df_07 = pd.read_csv('Dataset_07.csv', index_col='Serial_No')\n",
    "df_07.head()"
   ]
  },
  {
   "cell_type": "code",
   "execution_count": 5,
   "id": "1c2a4dbc",
   "metadata": {},
   "outputs": [
    {
     "data": {
      "text/plain": [
       "(400, 8)"
      ]
     },
     "execution_count": 5,
     "metadata": {},
     "output_type": "execute_result"
    }
   ],
   "source": [
    "df_07.shape"
   ]
  },
  {
   "cell_type": "code",
   "execution_count": 6,
   "id": "a7e0990a",
   "metadata": {},
   "outputs": [
    {
     "name": "stdout",
     "output_type": "stream",
     "text": [
      "<class 'pandas.core.frame.DataFrame'>\n",
      "Int64Index: 400 entries, 1 to 400\n",
      "Data columns (total 8 columns):\n",
      "GRE                  400 non-null int64\n",
      "TOEFL                400 non-null int64\n",
      "University_Rating    400 non-null int64\n",
      "SOP                  400 non-null float64\n",
      "LOR                  400 non-null float64\n",
      "CGPA                 400 non-null float64\n",
      "Research             400 non-null int64\n",
      "Chance_of_Admit      400 non-null float64\n",
      "dtypes: float64(4), int64(4)\n",
      "memory usage: 28.1 KB\n"
     ]
    }
   ],
   "source": [
    "df_07.info()"
   ]
  },
  {
   "cell_type": "markdown",
   "id": "8cf9c56b",
   "metadata": {},
   "source": [
    "**1**. 합격 가능성에 GRE, TOEFL, CGPA 점수 가운데 가장 영향이 큰 것이 어떤 점수인지 알아 보기 위해서 상관 분석을 수행한다. \n",
    "\n",
    "- 피어슨(Pearson) 상관계수 값을 구한다.\n",
    "- Chance_of_Admit와의 가장 큰 상관계수 값을 가지는 항목의 상관계수를 소수점 넷째 자리에서 반올림하여 셋째 자리까지 기술하시오. \n",
    "\n",
    "\n",
    "(답안 예시) 0.123\n"
   ]
  },
  {
   "cell_type": "code",
   "execution_count": 7,
   "id": "cc8cd1c6",
   "metadata": {},
   "outputs": [
    {
     "data": {
      "text/html": [
       "<div>\n",
       "<style scoped>\n",
       "    .dataframe tbody tr th:only-of-type {\n",
       "        vertical-align: middle;\n",
       "    }\n",
       "\n",
       "    .dataframe tbody tr th {\n",
       "        vertical-align: top;\n",
       "    }\n",
       "\n",
       "    .dataframe thead th {\n",
       "        text-align: right;\n",
       "    }\n",
       "</style>\n",
       "<table border=\"1\" class=\"dataframe\">\n",
       "  <thead>\n",
       "    <tr style=\"text-align: right;\">\n",
       "      <th></th>\n",
       "      <th>Chance_of_Admit</th>\n",
       "      <th>GRE</th>\n",
       "      <th>TOEFL</th>\n",
       "      <th>CGPA</th>\n",
       "    </tr>\n",
       "  </thead>\n",
       "  <tbody>\n",
       "    <tr>\n",
       "      <td>Chance_of_Admit</td>\n",
       "      <td>1.000000</td>\n",
       "      <td>0.802610</td>\n",
       "      <td>0.791594</td>\n",
       "      <td>0.873289</td>\n",
       "    </tr>\n",
       "    <tr>\n",
       "      <td>GRE</td>\n",
       "      <td>0.802610</td>\n",
       "      <td>1.000000</td>\n",
       "      <td>0.835977</td>\n",
       "      <td>0.833060</td>\n",
       "    </tr>\n",
       "    <tr>\n",
       "      <td>TOEFL</td>\n",
       "      <td>0.791594</td>\n",
       "      <td>0.835977</td>\n",
       "      <td>1.000000</td>\n",
       "      <td>0.828417</td>\n",
       "    </tr>\n",
       "    <tr>\n",
       "      <td>CGPA</td>\n",
       "      <td>0.873289</td>\n",
       "      <td>0.833060</td>\n",
       "      <td>0.828417</td>\n",
       "      <td>1.000000</td>\n",
       "    </tr>\n",
       "  </tbody>\n",
       "</table>\n",
       "</div>"
      ],
      "text/plain": [
       "                 Chance_of_Admit       GRE     TOEFL      CGPA\n",
       "Chance_of_Admit         1.000000  0.802610  0.791594  0.873289\n",
       "GRE                     0.802610  1.000000  0.835977  0.833060\n",
       "TOEFL                   0.791594  0.835977  1.000000  0.828417\n",
       "CGPA                    0.873289  0.833060  0.828417  1.000000"
      ]
     },
     "execution_count": 7,
     "metadata": {},
     "output_type": "execute_result"
    }
   ],
   "source": [
    "X = ['Chance_of_Admit', 'GRE', 'TOEFL', 'CGPA']\n",
    "df_corr = df_07[X].corr()\n",
    "df_corr"
   ]
  },
  {
   "cell_type": "code",
   "execution_count": 8,
   "id": "d17ef9be",
   "metadata": {},
   "outputs": [
    {
     "data": {
      "text/plain": [
       "GRE      0.802610\n",
       "TOEFL    0.791594\n",
       "CGPA     0.873289\n",
       "Name: Chance_of_Admit, dtype: float64"
      ]
     },
     "execution_count": 8,
     "metadata": {},
     "output_type": "execute_result"
    }
   ],
   "source": [
    "df_corr.loc['Chance_of_Admit', ['GRE', 'TOEFL', 'CGPA']]"
   ]
  },
  {
   "cell_type": "code",
   "execution_count": 9,
   "id": "f39c03e5",
   "metadata": {},
   "outputs": [
    {
     "data": {
      "text/plain": [
       "0.8732890993553011"
      ]
     },
     "execution_count": 9,
     "metadata": {},
     "output_type": "execute_result"
    }
   ],
   "source": [
    "df_corr.loc['Chance_of_Admit', ['GRE', 'TOEFL', 'CGPA']].max()"
   ]
  },
  {
   "cell_type": "markdown",
   "id": "52bebfaa",
   "metadata": {},
   "source": [
    "**0.873**"
   ]
  },
  {
   "cell_type": "markdown",
   "id": "38496e9b",
   "metadata": {},
   "source": [
    "**2**. GRE 점수의 평균 이상을 받은 그룹과 평균 미만을 받은 그룹의 CGPA 평균은 차이가 있는지 검정을 하고자 한다.\n",
    "\n",
    "- 적절한 검정 방법을 선택하고 양측 검정을 수행하시오 (등분산으로 가정)\n",
    "\n",
    "- 검정 결과, 검정통계량의 추정치를 소수점 셋째 자리에서 반올림하여 소수점 두 자리까지 기술하시오.\n",
    "\n",
    "\n",
    "Python 함수 가이드\n",
    "```\n",
    "scipy.stats에 있는 기능 활용\n",
    "```"
   ]
  },
  {
   "cell_type": "code",
   "execution_count": 15,
   "id": "60bcb786",
   "metadata": {},
   "outputs": [
    {
     "data": {
      "text/plain": [
       "(Ttest_indResult(statistic=19.443291692470982, pvalue=1.1127037052806161e-59),\n",
       " 19.443291692470982)"
      ]
     },
     "execution_count": 15,
     "metadata": {},
     "output_type": "execute_result"
    }
   ],
   "source": [
    "from scipy.stats import ttest_ind\n",
    "\n",
    "result = ttest_ind(\n",
    "    df_07.loc[df_07['GRE'] >= df_07['GRE'].mean(), 'CGPA'],\n",
    "    df_07.loc[df_07['GRE'] < df_07['GRE'].mean(), 'CGPA'],\n",
    "    equal_var=True\n",
    ")\n",
    "result, result.statistic"
   ]
  },
  {
   "cell_type": "markdown",
   "id": "9a0b64df",
   "metadata": {},
   "source": [
    "**19.44**"
   ]
  },
  {
   "cell_type": "markdown",
   "id": "c0004ba7",
   "metadata": {},
   "source": [
    "**3**. Chance_of_Admit 확률이 0.5를 초과하면 합격으로, 이하이면 불합격으로 구분하고 로지스틱 회귀분석을 수행하시오.\n",
    "\n",
    "- 원데이터만 사용하고, 원데이터 가운데 Serial_No와 Label은 모형에서 제외\n",
    "\n",
    "- 각 설정값은 다음과 같이 지정하고, 언급되지 않은 사항은 기본 설정값을 사용하시오. Seed : 123\n",
    "\n",
    "- 로지스틱 회귀분석 수행 결과에서 로지스틱 회귀계수의 절대값이 가장 큰 변수와 그 값을 기술하시오. \n",
    "\n",
    "(로지스틱 회귀계수는 반올림하여 소수점 둘째 자리까지 / Intercept는 제외)\n",
    "\n",
    "(답안 예시) abc, 0.12\n",
    "\n",
    "Python 함수 가이드\n",
    "```\n",
    "sklearn.linear_model.LogisticRegression, solver='liblinear', random_state=123\n",
    "```"
   ]
  },
  {
   "cell_type": "code",
   "execution_count": 17,
   "id": "5af59b3b",
   "metadata": {},
   "outputs": [
    {
     "data": {
      "text/plain": [
       "LogisticRegression(C=1.0, class_weight=None, dual=False, fit_intercept=True,\n",
       "                   intercept_scaling=1, l1_ratio=None, max_iter=100,\n",
       "                   multi_class='warn', n_jobs=None, penalty='l2',\n",
       "                   random_state=123, solver='liblinear', tol=0.0001, verbose=0,\n",
       "                   warm_start=False)"
      ]
     },
     "execution_count": 17,
     "metadata": {},
     "output_type": "execute_result"
    }
   ],
   "source": [
    "from sklearn.linear_model import LogisticRegression\n",
    "\n",
    "clf_lr = LogisticRegression(solver='liblinear', random_state=123)\n",
    "X_lr = ['GRE', 'TOEFL', 'University_Rating',  'SOP', 'LOR', 'CGPA', 'Research']\n",
    "clf_lr.fit(df_07[X_lr], df_07['Chance_of_Admit'] > 0.5)"
   ]
  },
  {
   "cell_type": "code",
   "execution_count": 20,
   "id": "3dbd2102",
   "metadata": {},
   "outputs": [
    {
     "data": {
      "text/plain": [
       "array([0.08896188, 0.10548837, 0.05410951, 0.26490356, 1.01891822,\n",
       "       2.06269373, 0.63495759])"
      ]
     },
     "execution_count": 20,
     "metadata": {},
     "output_type": "execute_result"
    }
   ],
   "source": [
    "np.abs(clf_lr.coef_[0])"
   ]
  },
  {
   "cell_type": "markdown",
   "id": "d61b45dd",
   "metadata": {},
   "source": [
    "**CGPA, 2.06**"
   ]
  },
  {
   "cell_type": "markdown",
   "id": "02cd1143",
   "metadata": {},
   "source": [
    "# 실습 문제 2\n",
    "\n",
    "데이터셋: **Dataset_06.csv**, comma(\",\") 4323rows, 19columns, UTF-8 인코딩\n",
    "\n",
    "|컬럼|정의|Type|\n",
    "|--|---------|------|\n",
    "|id|매물 번호|Double|\n",
    "|date|날짜|String|\n",
    "|price|거래 가격|Double|\n",
    "|bedrooms|방 개수|Double|\n",
    "|bathrooms|화장실 개수 (화장실은 있으나 샤워기 없는 경우 0.5로 처리)|Double|\n",
    "|sqft_living|건축물 면적|Double|\n",
    "|sqft_lot|대지 면적|Double|\n",
    "|floors|건축물의 층수|Double|\n",
    "|waterfront|강변 조망 가능 여부 (0 / 1)|Double|\n",
    "|view|경관 (나쁨에서 좋음으로 0 ~ 4로 표시)|Double|\n",
    "|condition|관리 상태 (나쁨에서 좋음으로 1 ~ 5로 표시)|Double|\n",
    "|grade|등급 (낮음에서 높음으로 1 ~ 13으로 표시)|Double|\n",
    "|sqft_above|지상 면적|Double|\n",
    "|sqft_basement|지하실 면적|Double|\n",
    "|yr_built|건축 연도|Double|\n",
    "|yr_renovated|개축 연도|Double|\n",
    "|zipcode|우편번호|Double|\n",
    "|sqft_living15|15개의 인근 주택의 평균 건물 면적|Double|\n",
    "|sqft_lot15\t|15개의 인근 주택의 평균 대지 면적|Double|\n"
   ]
  },
  {
   "cell_type": "code",
   "execution_count": 22,
   "id": "77bfc959",
   "metadata": {},
   "outputs": [
    {
     "data": {
      "text/html": [
       "<div>\n",
       "<style scoped>\n",
       "    .dataframe tbody tr th:only-of-type {\n",
       "        vertical-align: middle;\n",
       "    }\n",
       "\n",
       "    .dataframe tbody tr th {\n",
       "        vertical-align: top;\n",
       "    }\n",
       "\n",
       "    .dataframe thead th {\n",
       "        text-align: right;\n",
       "    }\n",
       "</style>\n",
       "<table border=\"1\" class=\"dataframe\">\n",
       "  <thead>\n",
       "    <tr style=\"text-align: right;\">\n",
       "      <th></th>\n",
       "      <th>id</th>\n",
       "      <th>date</th>\n",
       "      <th>price</th>\n",
       "      <th>bedrooms</th>\n",
       "      <th>bathrooms</th>\n",
       "      <th>sqft_living</th>\n",
       "      <th>sqft_lot</th>\n",
       "      <th>floors</th>\n",
       "      <th>waterfront</th>\n",
       "      <th>view</th>\n",
       "      <th>condition</th>\n",
       "      <th>grade</th>\n",
       "      <th>sqft_above</th>\n",
       "      <th>sqft_basement</th>\n",
       "      <th>yr_built</th>\n",
       "      <th>yr_renovated</th>\n",
       "      <th>zipcode</th>\n",
       "      <th>sqft_living15</th>\n",
       "      <th>sqft_lot15</th>\n",
       "    </tr>\n",
       "  </thead>\n",
       "  <tbody>\n",
       "    <tr>\n",
       "      <td>0</td>\n",
       "      <td>2597000006</td>\n",
       "      <td>20150309T000000</td>\n",
       "      <td>347500.0</td>\n",
       "      <td>3</td>\n",
       "      <td>1.50</td>\n",
       "      <td>1180</td>\n",
       "      <td>8353</td>\n",
       "      <td>1.0</td>\n",
       "      <td>0</td>\n",
       "      <td>0</td>\n",
       "      <td>3</td>\n",
       "      <td>7</td>\n",
       "      <td>1180</td>\n",
       "      <td>0</td>\n",
       "      <td>1960</td>\n",
       "      <td>0</td>\n",
       "      <td>98155</td>\n",
       "      <td>1710</td>\n",
       "      <td>8748</td>\n",
       "    </tr>\n",
       "    <tr>\n",
       "      <td>1</td>\n",
       "      <td>8813400345</td>\n",
       "      <td>20150414T000000</td>\n",
       "      <td>575000.0</td>\n",
       "      <td>2</td>\n",
       "      <td>1.00</td>\n",
       "      <td>980</td>\n",
       "      <td>3663</td>\n",
       "      <td>1.0</td>\n",
       "      <td>0</td>\n",
       "      <td>0</td>\n",
       "      <td>5</td>\n",
       "      <td>7</td>\n",
       "      <td>980</td>\n",
       "      <td>0</td>\n",
       "      <td>1909</td>\n",
       "      <td>0</td>\n",
       "      <td>98105</td>\n",
       "      <td>1620</td>\n",
       "      <td>3706</td>\n",
       "    </tr>\n",
       "    <tr>\n",
       "      <td>2</td>\n",
       "      <td>226059106</td>\n",
       "      <td>20150102T000000</td>\n",
       "      <td>489500.0</td>\n",
       "      <td>3</td>\n",
       "      <td>1.75</td>\n",
       "      <td>2090</td>\n",
       "      <td>65558</td>\n",
       "      <td>1.0</td>\n",
       "      <td>0</td>\n",
       "      <td>0</td>\n",
       "      <td>3</td>\n",
       "      <td>8</td>\n",
       "      <td>1330</td>\n",
       "      <td>760</td>\n",
       "      <td>1977</td>\n",
       "      <td>0</td>\n",
       "      <td>98072</td>\n",
       "      <td>2450</td>\n",
       "      <td>47178</td>\n",
       "    </tr>\n",
       "    <tr>\n",
       "      <td>3</td>\n",
       "      <td>8645500270</td>\n",
       "      <td>20141028T000000</td>\n",
       "      <td>246000.0</td>\n",
       "      <td>4</td>\n",
       "      <td>1.75</td>\n",
       "      <td>1720</td>\n",
       "      <td>7455</td>\n",
       "      <td>1.0</td>\n",
       "      <td>0</td>\n",
       "      <td>0</td>\n",
       "      <td>4</td>\n",
       "      <td>7</td>\n",
       "      <td>1020</td>\n",
       "      <td>700</td>\n",
       "      <td>1963</td>\n",
       "      <td>0</td>\n",
       "      <td>98058</td>\n",
       "      <td>1720</td>\n",
       "      <td>7700</td>\n",
       "    </tr>\n",
       "    <tr>\n",
       "      <td>4</td>\n",
       "      <td>7010700550</td>\n",
       "      <td>20141114T000000</td>\n",
       "      <td>595000.0</td>\n",
       "      <td>3</td>\n",
       "      <td>2.50</td>\n",
       "      <td>2030</td>\n",
       "      <td>5100</td>\n",
       "      <td>2.0</td>\n",
       "      <td>0</td>\n",
       "      <td>0</td>\n",
       "      <td>3</td>\n",
       "      <td>7</td>\n",
       "      <td>2030</td>\n",
       "      <td>0</td>\n",
       "      <td>2008</td>\n",
       "      <td>0</td>\n",
       "      <td>98199</td>\n",
       "      <td>1790</td>\n",
       "      <td>4380</td>\n",
       "    </tr>\n",
       "  </tbody>\n",
       "</table>\n",
       "</div>"
      ],
      "text/plain": [
       "           id             date     price  bedrooms  bathrooms  sqft_living  \\\n",
       "0  2597000006  20150309T000000  347500.0         3       1.50         1180   \n",
       "1  8813400345  20150414T000000  575000.0         2       1.00          980   \n",
       "2   226059106  20150102T000000  489500.0         3       1.75         2090   \n",
       "3  8645500270  20141028T000000  246000.0         4       1.75         1720   \n",
       "4  7010700550  20141114T000000  595000.0         3       2.50         2030   \n",
       "\n",
       "   sqft_lot  floors  waterfront  view  condition  grade  sqft_above  \\\n",
       "0      8353     1.0           0     0          3      7        1180   \n",
       "1      3663     1.0           0     0          5      7         980   \n",
       "2     65558     1.0           0     0          3      8        1330   \n",
       "3      7455     1.0           0     0          4      7        1020   \n",
       "4      5100     2.0           0     0          3      7        2030   \n",
       "\n",
       "   sqft_basement  yr_built  yr_renovated  zipcode  sqft_living15  sqft_lot15  \n",
       "0              0      1960             0    98155           1710        8748  \n",
       "1              0      1909             0    98105           1620        3706  \n",
       "2            760      1977             0    98072           2450       47178  \n",
       "3            700      1963             0    98058           1720        7700  \n",
       "4              0      2008             0    98199           1790        4380  "
      ]
     },
     "execution_count": 22,
     "metadata": {},
     "output_type": "execute_result"
    }
   ],
   "source": [
    "df_06 = pd.read_csv('Dataset_06.csv')\n",
    "df_06.head(5)"
   ]
  },
  {
   "cell_type": "code",
   "execution_count": 25,
   "id": "2d9e81a3",
   "metadata": {},
   "outputs": [
    {
     "name": "stdout",
     "output_type": "stream",
     "text": [
      "<class 'pandas.core.frame.DataFrame'>\n",
      "RangeIndex: 4323 entries, 0 to 4322\n",
      "Data columns (total 19 columns):\n",
      "id               4323 non-null int64\n",
      "date             4323 non-null object\n",
      "price            4323 non-null float64\n",
      "bedrooms         4323 non-null int64\n",
      "bathrooms        4323 non-null float64\n",
      "sqft_living      4323 non-null int64\n",
      "sqft_lot         4323 non-null int64\n",
      "floors           4323 non-null float64\n",
      "waterfront       4323 non-null int64\n",
      "view             4323 non-null int64\n",
      "condition        4323 non-null int64\n",
      "grade            4323 non-null int64\n",
      "sqft_above       4323 non-null int64\n",
      "sqft_basement    4323 non-null int64\n",
      "yr_built         4323 non-null int64\n",
      "yr_renovated     4323 non-null int64\n",
      "zipcode          4323 non-null int64\n",
      "sqft_living15    4323 non-null int64\n",
      "sqft_lot15       4323 non-null int64\n",
      "dtypes: float64(3), int64(15), object(1)\n",
      "memory usage: 641.8+ KB\n"
     ]
    }
   ],
   "source": [
    "df_06.info()"
   ]
  },
  {
   "cell_type": "markdown",
   "id": "adf1047d",
   "metadata": {},
   "source": [
    "**1** 강변 조망이 가능한지 여부(waterfront)에 따라 평균 주택 가격을 계산하고 \n",
    "\n",
    "조망이 가능한 경우와 그렇지 않은 경우의 평균 가격 차이의 절대값을 구하시오. \n",
    "\n",
    "답은 소수점 이하는 버리고 정수부만 기술하시오. \n",
    "\n",
    "(답안 예시) 1234567\n"
   ]
  },
  {
   "cell_type": "code",
   "execution_count": 28,
   "id": "1cd39c1a",
   "metadata": {},
   "outputs": [
    {
     "data": {
      "text/plain": [
       "(532165.1307692308, 1699437.878787879, 1167272.748018648)"
      ]
     },
     "execution_count": 28,
     "metadata": {},
     "output_type": "execute_result"
    }
   ],
   "source": [
    "a, b = df_06.groupby('waterfront')['price'].mean()\n",
    "a, b, b - a "
   ]
  },
  {
   "cell_type": "markdown",
   "id": "4a2b1f4d",
   "metadata": {},
   "source": [
    "**1167272**"
   ]
  },
  {
   "cell_type": "markdown",
   "id": "b9da4b6d",
   "metadata": {},
   "source": [
    "**2** price, bedrooms, bathrooms, sqft_living, sqft_lot, floors, yr_built 등 7개의 변수 간의 상관분석을 수행하고 \n",
    "\n",
    "price와의 상관계수의 절대값이 가장 큰 변수와 가장 작은 변수를 차례로 기술하시오. \n",
    "\n",
    "(답안 예시) view, zipcode\n"
   ]
  },
  {
   "cell_type": "code",
   "execution_count": 32,
   "id": "6d0ea253",
   "metadata": {},
   "outputs": [
    {
     "data": {
      "text/html": [
       "<div>\n",
       "<style scoped>\n",
       "    .dataframe tbody tr th:only-of-type {\n",
       "        vertical-align: middle;\n",
       "    }\n",
       "\n",
       "    .dataframe tbody tr th {\n",
       "        vertical-align: top;\n",
       "    }\n",
       "\n",
       "    .dataframe thead th {\n",
       "        text-align: right;\n",
       "    }\n",
       "</style>\n",
       "<table border=\"1\" class=\"dataframe\">\n",
       "  <thead>\n",
       "    <tr style=\"text-align: right;\">\n",
       "      <th></th>\n",
       "      <th>price</th>\n",
       "      <th>bedrooms</th>\n",
       "      <th>bathrooms</th>\n",
       "      <th>sqft_living</th>\n",
       "      <th>sqft_lot</th>\n",
       "      <th>floors</th>\n",
       "      <th>yr_built</th>\n",
       "    </tr>\n",
       "  </thead>\n",
       "  <tbody>\n",
       "    <tr>\n",
       "      <td>price</td>\n",
       "      <td>1.000000</td>\n",
       "      <td>0.279824</td>\n",
       "      <td>0.534277</td>\n",
       "      <td>0.709157</td>\n",
       "      <td>0.106341</td>\n",
       "      <td>0.270423</td>\n",
       "      <td>0.059895</td>\n",
       "    </tr>\n",
       "    <tr>\n",
       "      <td>bedrooms</td>\n",
       "      <td>0.279824</td>\n",
       "      <td>1.000000</td>\n",
       "      <td>0.468611</td>\n",
       "      <td>0.517502</td>\n",
       "      <td>0.017658</td>\n",
       "      <td>0.151279</td>\n",
       "      <td>0.137440</td>\n",
       "    </tr>\n",
       "    <tr>\n",
       "      <td>bathrooms</td>\n",
       "      <td>0.534277</td>\n",
       "      <td>0.468611</td>\n",
       "      <td>1.000000</td>\n",
       "      <td>0.751835</td>\n",
       "      <td>0.105676</td>\n",
       "      <td>0.495845</td>\n",
       "      <td>0.509019</td>\n",
       "    </tr>\n",
       "    <tr>\n",
       "      <td>sqft_living</td>\n",
       "      <td>0.709157</td>\n",
       "      <td>0.517502</td>\n",
       "      <td>0.751835</td>\n",
       "      <td>1.000000</td>\n",
       "      <td>0.180408</td>\n",
       "      <td>0.368670</td>\n",
       "      <td>0.323522</td>\n",
       "    </tr>\n",
       "    <tr>\n",
       "      <td>sqft_lot</td>\n",
       "      <td>0.106341</td>\n",
       "      <td>0.017658</td>\n",
       "      <td>0.105676</td>\n",
       "      <td>0.180408</td>\n",
       "      <td>1.000000</td>\n",
       "      <td>0.032762</td>\n",
       "      <td>0.062490</td>\n",
       "    </tr>\n",
       "    <tr>\n",
       "      <td>floors</td>\n",
       "      <td>0.270423</td>\n",
       "      <td>0.151279</td>\n",
       "      <td>0.495845</td>\n",
       "      <td>0.368670</td>\n",
       "      <td>0.032762</td>\n",
       "      <td>1.000000</td>\n",
       "      <td>0.505070</td>\n",
       "    </tr>\n",
       "    <tr>\n",
       "      <td>yr_built</td>\n",
       "      <td>0.059895</td>\n",
       "      <td>0.137440</td>\n",
       "      <td>0.509019</td>\n",
       "      <td>0.323522</td>\n",
       "      <td>0.062490</td>\n",
       "      <td>0.505070</td>\n",
       "      <td>1.000000</td>\n",
       "    </tr>\n",
       "  </tbody>\n",
       "</table>\n",
       "</div>"
      ],
      "text/plain": [
       "                price  bedrooms  bathrooms  sqft_living  sqft_lot    floors  \\\n",
       "price        1.000000  0.279824   0.534277     0.709157  0.106341  0.270423   \n",
       "bedrooms     0.279824  1.000000   0.468611     0.517502  0.017658  0.151279   \n",
       "bathrooms    0.534277  0.468611   1.000000     0.751835  0.105676  0.495845   \n",
       "sqft_living  0.709157  0.517502   0.751835     1.000000  0.180408  0.368670   \n",
       "sqft_lot     0.106341  0.017658   0.105676     0.180408  1.000000  0.032762   \n",
       "floors       0.270423  0.151279   0.495845     0.368670  0.032762  1.000000   \n",
       "yr_built     0.059895  0.137440   0.509019     0.323522  0.062490  0.505070   \n",
       "\n",
       "             yr_built  \n",
       "price        0.059895  \n",
       "bedrooms     0.137440  \n",
       "bathrooms    0.509019  \n",
       "sqft_living  0.323522  \n",
       "sqft_lot     0.062490  \n",
       "floors       0.505070  \n",
       "yr_built     1.000000  "
      ]
     },
     "execution_count": 32,
     "metadata": {},
     "output_type": "execute_result"
    }
   ],
   "source": [
    "X = ['price', 'bedrooms', 'bathrooms', 'sqft_living', 'sqft_lot', 'floors', 'yr_built']\n",
    "df_corr_06 = df_06[X].corr()\n",
    "df_corr_06"
   ]
  },
  {
   "cell_type": "code",
   "execution_count": 40,
   "id": "7229742f",
   "metadata": {},
   "outputs": [
    {
     "data": {
      "text/plain": [
       "(0.7091565835706289, 0.059895410779647225, 0.6492611727909817)"
      ]
     },
     "execution_count": 40,
     "metadata": {},
     "output_type": "execute_result"
    }
   ],
   "source": [
    "mn, mx = df_corr_06.loc['price', 'bedrooms': ].abs().sort_values().iloc[[0, -1]]\n",
    "mx, mn,  mx -mn"
   ]
  },
  {
   "cell_type": "markdown",
   "id": "763648e9",
   "metadata": {},
   "source": [
    "**3** id, date, 그리고 zipcode를 제외한 모든 변수를 독립변수로, price를 종속변수로 하여 회귀분석을 수행하시오. \n",
    "\n",
    "통계적 유의성을 갖지 못하는 독립변수를 제거하면 회귀 모형에 남는 변수는 모두 몇 개인가?  (유의 수준: 0.05)\n",
    "\n",
    "이 때 음의 회귀계수를 가지는 변수는 몇 개인가? \n",
    "\n",
    "\n",
    "Python 함수 가이드\n",
    "```\n",
    "from sklearn.linear_model import LinearRegression 또는\n",
    "from statsmodels.formula.api import ols 중 적합한 것을 사용하세요\n",
    "```"
   ]
  },
  {
   "cell_type": "code",
   "execution_count": 47,
   "id": "f86b73a4",
   "metadata": {},
   "outputs": [],
   "source": [
    "from statsmodels.formula.api import ols"
   ]
  },
  {
   "cell_type": "code",
   "execution_count": 62,
   "id": "76ba7dfb",
   "metadata": {},
   "outputs": [
    {
     "data": {
      "text/plain": [
       "'price ~ bedrooms+bathrooms+sqft_living+sqft_lot+floors+waterfront+view+condition+grade+sqft_above+sqft_basement+yr_built+yr_renovated+sqft_living15+sqft_lot15'"
      ]
     },
     "execution_count": 62,
     "metadata": {},
     "output_type": "execute_result"
    }
   ],
   "source": [
    "X = [i for i in df_06.columns if i not in ['id', 'date', 'zipcode', 'price']]\n",
    "formula = 'price ~ ' + '+'.join(X)\n",
    "formula"
   ]
  },
  {
   "cell_type": "code",
   "execution_count": 48,
   "id": "2c324f51",
   "metadata": {},
   "outputs": [
    {
     "data": {
      "text/html": [
       "<table class=\"simpletable\">\n",
       "<caption>OLS Regression Results</caption>\n",
       "<tr>\n",
       "  <th>Dep. Variable:</th>          <td>price</td>      <th>  R-squared:         </th> <td>   0.681</td> \n",
       "</tr>\n",
       "<tr>\n",
       "  <th>Model:</th>                   <td>OLS</td>       <th>  Adj. R-squared:    </th> <td>   0.680</td> \n",
       "</tr>\n",
       "<tr>\n",
       "  <th>Method:</th>             <td>Least Squares</td>  <th>  F-statistic:       </th> <td>   656.0</td> \n",
       "</tr>\n",
       "<tr>\n",
       "  <th>Date:</th>             <td>Wed, 26 Jul 2023</td> <th>  Prob (F-statistic):</th>  <td>  0.00</td>  \n",
       "</tr>\n",
       "<tr>\n",
       "  <th>Time:</th>                 <td>13:57:37</td>     <th>  Log-Likelihood:    </th> <td> -58960.</td> \n",
       "</tr>\n",
       "<tr>\n",
       "  <th>No. Observations:</th>      <td>  4323</td>      <th>  AIC:               </th> <td>1.180e+05</td>\n",
       "</tr>\n",
       "<tr>\n",
       "  <th>Df Residuals:</th>          <td>  4308</td>      <th>  BIC:               </th> <td>1.180e+05</td>\n",
       "</tr>\n",
       "<tr>\n",
       "  <th>Df Model:</th>              <td>    14</td>      <th>                     </th>     <td> </td>    \n",
       "</tr>\n",
       "<tr>\n",
       "  <th>Covariance Type:</th>      <td>nonrobust</td>    <th>                     </th>     <td> </td>    \n",
       "</tr>\n",
       "</table>\n",
       "<table class=\"simpletable\">\n",
       "<tr>\n",
       "        <td></td>           <th>coef</th>     <th>std err</th>      <th>t</th>      <th>P>|t|</th>  <th>[0.025</th>    <th>0.975]</th>  \n",
       "</tr>\n",
       "<tr>\n",
       "  <th>Intercept</th>     <td> 6.302e+06</td> <td> 2.95e+05</td> <td>   21.401</td> <td> 0.000</td> <td> 5.73e+06</td> <td> 6.88e+06</td>\n",
       "</tr>\n",
       "<tr>\n",
       "  <th>bedrooms</th>      <td>  -2.5e+04</td> <td> 3680.510</td> <td>   -6.791</td> <td> 0.000</td> <td>-3.22e+04</td> <td>-1.78e+04</td>\n",
       "</tr>\n",
       "<tr>\n",
       "  <th>bathrooms</th>     <td> 5.179e+04</td> <td> 7163.408</td> <td>    7.230</td> <td> 0.000</td> <td> 3.77e+04</td> <td> 6.58e+04</td>\n",
       "</tr>\n",
       "<tr>\n",
       "  <th>sqft_living</th>   <td>   92.3080</td> <td>    5.074</td> <td>   18.192</td> <td> 0.000</td> <td>   82.360</td> <td>  102.256</td>\n",
       "</tr>\n",
       "<tr>\n",
       "  <th>sqft_lot</th>      <td>    0.0054</td> <td>    0.093</td> <td>    0.059</td> <td> 0.953</td> <td>   -0.176</td> <td>    0.187</td>\n",
       "</tr>\n",
       "<tr>\n",
       "  <th>floors</th>        <td> 3.748e+04</td> <td> 8141.392</td> <td>    4.604</td> <td> 0.000</td> <td> 2.15e+04</td> <td> 5.34e+04</td>\n",
       "</tr>\n",
       "<tr>\n",
       "  <th>waterfront</th>    <td> 6.277e+05</td> <td> 3.91e+04</td> <td>   16.064</td> <td> 0.000</td> <td> 5.51e+05</td> <td> 7.04e+05</td>\n",
       "</tr>\n",
       "<tr>\n",
       "  <th>view</th>          <td>  4.04e+04</td> <td> 4797.344</td> <td>    8.421</td> <td> 0.000</td> <td>  3.1e+04</td> <td> 4.98e+04</td>\n",
       "</tr>\n",
       "<tr>\n",
       "  <th>condition</th>     <td> 1.571e+04</td> <td> 5317.387</td> <td>    2.954</td> <td> 0.003</td> <td> 5280.918</td> <td> 2.61e+04</td>\n",
       "</tr>\n",
       "<tr>\n",
       "  <th>grade</th>         <td> 1.306e+05</td> <td> 4700.604</td> <td>   27.789</td> <td> 0.000</td> <td> 1.21e+05</td> <td>  1.4e+05</td>\n",
       "</tr>\n",
       "<tr>\n",
       "  <th>sqft_above</th>    <td>   33.7358</td> <td>    4.981</td> <td>    6.773</td> <td> 0.000</td> <td>   23.971</td> <td>   43.501</td>\n",
       "</tr>\n",
       "<tr>\n",
       "  <th>sqft_basement</th> <td>   58.5722</td> <td>    5.840</td> <td>   10.030</td> <td> 0.000</td> <td>   47.123</td> <td>   70.021</td>\n",
       "</tr>\n",
       "<tr>\n",
       "  <th>yr_built</th>      <td>-3666.8957</td> <td>  150.805</td> <td>  -24.316</td> <td> 0.000</td> <td>-3962.551</td> <td>-3371.241</td>\n",
       "</tr>\n",
       "<tr>\n",
       "  <th>yr_renovated</th>  <td>   17.7032</td> <td>    8.265</td> <td>    2.142</td> <td> 0.032</td> <td>    1.499</td> <td>   33.908</td>\n",
       "</tr>\n",
       "<tr>\n",
       "  <th>sqft_living15</th> <td>   23.0114</td> <td>    7.561</td> <td>    3.044</td> <td> 0.002</td> <td>    8.188</td> <td>   37.834</td>\n",
       "</tr>\n",
       "<tr>\n",
       "  <th>sqft_lot15</th>    <td>   -0.2323</td> <td>    0.142</td> <td>   -1.637</td> <td> 0.102</td> <td>   -0.511</td> <td>    0.046</td>\n",
       "</tr>\n",
       "</table>\n",
       "<table class=\"simpletable\">\n",
       "<tr>\n",
       "  <th>Omnibus:</th>       <td>2170.721</td> <th>  Durbin-Watson:     </th> <td>   2.011</td> \n",
       "</tr>\n",
       "<tr>\n",
       "  <th>Prob(Omnibus):</th>  <td> 0.000</td>  <th>  Jarque-Bera (JB):  </th> <td>38362.875</td>\n",
       "</tr>\n",
       "<tr>\n",
       "  <th>Skew:</th>           <td> 1.971</td>  <th>  Prob(JB):          </th> <td>    0.00</td> \n",
       "</tr>\n",
       "<tr>\n",
       "  <th>Kurtosis:</th>       <td>17.051</td>  <th>  Cond. No.          </th> <td>1.37e+17</td> \n",
       "</tr>\n",
       "</table><br/><br/>Warnings:<br/>[1] Standard Errors assume that the covariance matrix of the errors is correctly specified.<br/>[2] The smallest eigenvalue is 8.59e-22. This might indicate that there are<br/>strong multicollinearity problems or that the design matrix is singular."
      ],
      "text/plain": [
       "<class 'statsmodels.iolib.summary.Summary'>\n",
       "\"\"\"\n",
       "                            OLS Regression Results                            \n",
       "==============================================================================\n",
       "Dep. Variable:                  price   R-squared:                       0.681\n",
       "Model:                            OLS   Adj. R-squared:                  0.680\n",
       "Method:                 Least Squares   F-statistic:                     656.0\n",
       "Date:                Wed, 26 Jul 2023   Prob (F-statistic):               0.00\n",
       "Time:                        13:57:37   Log-Likelihood:                -58960.\n",
       "No. Observations:                4323   AIC:                         1.180e+05\n",
       "Df Residuals:                    4308   BIC:                         1.180e+05\n",
       "Df Model:                          14                                         \n",
       "Covariance Type:            nonrobust                                         \n",
       "=================================================================================\n",
       "                    coef    std err          t      P>|t|      [0.025      0.975]\n",
       "---------------------------------------------------------------------------------\n",
       "Intercept      6.302e+06   2.95e+05     21.401      0.000    5.73e+06    6.88e+06\n",
       "bedrooms        -2.5e+04   3680.510     -6.791      0.000   -3.22e+04   -1.78e+04\n",
       "bathrooms      5.179e+04   7163.408      7.230      0.000    3.77e+04    6.58e+04\n",
       "sqft_living      92.3080      5.074     18.192      0.000      82.360     102.256\n",
       "sqft_lot          0.0054      0.093      0.059      0.953      -0.176       0.187\n",
       "floors         3.748e+04   8141.392      4.604      0.000    2.15e+04    5.34e+04\n",
       "waterfront     6.277e+05   3.91e+04     16.064      0.000    5.51e+05    7.04e+05\n",
       "view            4.04e+04   4797.344      8.421      0.000     3.1e+04    4.98e+04\n",
       "condition      1.571e+04   5317.387      2.954      0.003    5280.918    2.61e+04\n",
       "grade          1.306e+05   4700.604     27.789      0.000    1.21e+05     1.4e+05\n",
       "sqft_above       33.7358      4.981      6.773      0.000      23.971      43.501\n",
       "sqft_basement    58.5722      5.840     10.030      0.000      47.123      70.021\n",
       "yr_built      -3666.8957    150.805    -24.316      0.000   -3962.551   -3371.241\n",
       "yr_renovated     17.7032      8.265      2.142      0.032       1.499      33.908\n",
       "sqft_living15    23.0114      7.561      3.044      0.002       8.188      37.834\n",
       "sqft_lot15       -0.2323      0.142     -1.637      0.102      -0.511       0.046\n",
       "==============================================================================\n",
       "Omnibus:                     2170.721   Durbin-Watson:                   2.011\n",
       "Prob(Omnibus):                  0.000   Jarque-Bera (JB):            38362.875\n",
       "Skew:                           1.971   Prob(JB):                         0.00\n",
       "Kurtosis:                      17.051   Cond. No.                     1.37e+17\n",
       "==============================================================================\n",
       "\n",
       "Warnings:\n",
       "[1] Standard Errors assume that the covariance matrix of the errors is correctly specified.\n",
       "[2] The smallest eigenvalue is 8.59e-22. This might indicate that there are\n",
       "strong multicollinearity problems or that the design matrix is singular.\n",
       "\"\"\""
      ]
     },
     "execution_count": 48,
     "metadata": {},
     "output_type": "execute_result"
    }
   ],
   "source": [
    "lm_06 = ols(formula, data=df_06).fit()\n",
    "lm_06.summary()"
   ]
  },
  {
   "cell_type": "markdown",
   "id": "68147d2b",
   "metadata": {},
   "source": [
    "**sqft_lot, sqft_lot15**"
   ]
  },
  {
   "cell_type": "code",
   "execution_count": 64,
   "id": "0133ce7c",
   "metadata": {},
   "outputs": [
    {
     "data": {
      "text/plain": [
       "13"
      ]
     },
     "execution_count": 64,
     "metadata": {},
     "output_type": "execute_result"
    }
   ],
   "source": [
    "len([i for i in df_06.columns if i not in ['id', 'date', 'zipcode', 'price']]) - 2"
   ]
  },
  {
   "cell_type": "markdown",
   "id": "e701b634",
   "metadata": {},
   "source": [
    "**bedrooms, yr_built**\n",
    "\n",
    "**13, 2**"
   ]
  },
  {
   "cell_type": "code",
   "execution_count": null,
   "id": "b8c682ff",
   "metadata": {},
   "outputs": [],
   "source": []
  }
 ],
 "metadata": {
  "kernelspec": {
   "display_name": "Python 3 (ipykernel)",
   "language": "python",
   "name": "python3"
  },
  "language_info": {
   "codemirror_mode": {
    "name": "ipython",
    "version": 3
   },
   "file_extension": ".py",
   "mimetype": "text/x-python",
   "name": "python",
   "nbconvert_exporter": "python",
   "pygments_lexer": "ipython3",
   "version": "3.7.4"
  }
 },
 "nbformat": 4,
 "nbformat_minor": 5
}
